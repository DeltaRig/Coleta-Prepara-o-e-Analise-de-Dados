{
 "cells": [
  {
   "cell_type": "markdown",
   "metadata": {},
   "source": [
    "# Trabalho Final\n",
    "Nomes: Bruna, Daniela e Gabrielli\n",
    "\n",
    "## Questão de pesquisa: Com a base SISCAN, investigar a evolução temporar de laudos de Les IEp Alto Grau, At.Glan.Ind. Alto Grau e Ori.Indef. Alto Grau nas diferentes faixas etárias.\n",
    "\n",
    "Amotragem: Anos de 2019 a 2023, considerando que no SISCAN existem dados desde 2005 até 2024\n",
    "\n",
    "Redução de Dimensionalidade: separar apenas os laudos mais graves"
   ]
  },
  {
   "cell_type": "code",
   "execution_count": null,
   "metadata": {
    "vscode": {
     "languageId": "plaintext"
    }
   },
   "outputs": [],
   "source": [
    "Seleção de Features: ler os 5 CSVs e ignorar as colunas que não são relevantes para a questão de pesquisa"
   ]
  },
  {
   "cell_type": "markdown",
   "metadata": {},
   "source": [
    "Preparar cvs para importar no Power BI ou Tableu\n",
    "* Adicionar a informação laudo+ano na coluna?"
   ]
  }
 ],
 "metadata": {
  "language_info": {
   "name": "python"
  }
 },
 "nbformat": 4,
 "nbformat_minor": 2
}
