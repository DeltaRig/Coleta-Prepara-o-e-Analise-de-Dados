{
 "cells": [
  {
   "cell_type": "markdown",
   "metadata": {},
   "source": [
    "## Trabalho Final\n",
    "Nomes: Bruna, Daniela e Gabrielli\n",
    "\n",
    "### Questão de pesquisa: Com a base SISCAN, investigar a evolução temporar de laudos de Les IEp Alto Grau, At.Glan.Ind. Alto Grau e Ori.Indef. Alto Grau nas diferentes faixas etárias.\n",
    "\n",
    "Amotragem: Anos de 2019 a 2023, considerando que no SISCAN existem dados desde 2005 até 2024\n",
    "\n",
    "Redução de Dimensionalidade: separar apenas os laudos mais graves"
   ]
  },
  {
   "cell_type": "markdown",
   "metadata": {},
   "source": [
    "Seleção de Features: ler os 5 CSVs e ignorar as colunas que não são relevantes para a questão de pesquisa\n",
    "\n",
    "Preparar cvs para importar no Power BI ou Tableu"
   ]
  },
  {
   "cell_type": "code",
   "execution_count": 16,
   "metadata": {},
   "outputs": [
    {
     "name": "stdout",
     "output_type": "stream",
     "text": [
      "2019\n",
      "2020\n",
      "2021\n",
      "2022\n",
      "2023\n",
      "Combined data saved to combined_data.csv\n"
     ]
    }
   ],
   "source": [
    "import pandas as pd\n",
    "import glob\n",
    "import re\n",
    "\n",
    "# List of CSV files\n",
    "files = glob.glob('cito_colo_pacrs*.csv')\n",
    "\n",
    "# Initialize an empty DataFrame\n",
    "combined_df = pd.DataFrame()\n",
    "\n",
    "# Process each file\n",
    "for file in files:\n",
    "    # Extract the year from the filename using regular expression\n",
    "    year = re.search(r'(\\d{4})', file).group(1)\n",
    "    print(year)\n",
    "    # Read the CSV file\n",
    "    df = pd.read_csv(file, sep=';', encoding='latin1')\n",
    "    \n",
    "    # Select the relevant columns\n",
    "    df = df[[\"Faixa etaria\", \"Les IEp Alto Grau\", \"At.Glan.Ind. Alto Grau\", \"Ori.Indef. Alto Grau\"]]\n",
    "    \n",
    "    # Rename the columns to include the year\n",
    "    df.columns = [\"Faixa etaria\", f\"{year} Les IEp Alto Grau\", f\"{year} At.Glan.Ind. Alto Grau\", f\"{year} Ori.Indef. Alto Grau\"]\n",
    "    \n",
    "    # Merge the data based on \"Faixa etaria\"\n",
    "    if combined_df.empty:\n",
    "        combined_df = df\n",
    "    else:\n",
    "        combined_df = pd.merge(combined_df, df, on=\"Faixa etaria\", how=\"outer\")\n",
    "\n",
    "# Save the combined DataFrame to a new CSV file\n",
    "combined_df.to_csv('combined_data.csv', index=False, sep=';')\n",
    "\n",
    "print(\"Combined data saved to combined_data.csv\")\n"
   ]
  }
 ],
 "metadata": {
  "kernelspec": {
   "display_name": "Python 3",
   "language": "python",
   "name": "python3"
  },
  "language_info": {
   "codemirror_mode": {
    "name": "ipython",
    "version": 3
   },
   "file_extension": ".py",
   "mimetype": "text/x-python",
   "name": "python",
   "nbconvert_exporter": "python",
   "pygments_lexer": "ipython3",
   "version": "3.11.4"
  }
 },
 "nbformat": 4,
 "nbformat_minor": 2
}
