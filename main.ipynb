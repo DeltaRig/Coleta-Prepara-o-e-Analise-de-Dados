{
 "cells": [
  {
   "cell_type": "markdown",
   "metadata": {},
   "source": [
    "# Trabalho Final\n",
    "Nomes: Bruna, Daniela e Gabrielli\n",
    "\n",
    "## Questão de pesquisa: Com a base SISCAN, investigar a evolução temporar de laudos de Les IEp Alto Grau, At.Glan.Ind. Alto Grau e Ori.Indef. Alto Grau nas diferentes faixas etárias.\n",
    "\n",
    "Amotragem: Anos de 2019 a 2023, considerando que no SISCAN existem dados desde 2005 até 2024\n",
    "\n",
    "Redução de Dimensionalidade: separar apenas os laudos mais graves"
   ]
  },
  {
   "cell_type": "markdown",
   "metadata": {},
   "source": [
    "Seleção de Features: ler os 5 CSVs e ignorar as colunas que não são relevantes para a questão de pesquisa"
   ]
  },
  {
   "cell_type": "code",
   "execution_count": null,
   "metadata": {
    "vscode": {
     "languageId": "plaintext"
    }
   },
   "outputs": [],
   "source": [
    "def dropCollunms(df):\n",
    "    df = df.drop(columns=[\"Carc. Epiderm. Inv\",\"Adenocarc invasor\",\"Adenocarc in situ\",\"ASC-H\",\"Les IE Baixo Grau\",\"At.Glan.Ind.N�o Neo\",\"ASC-US\",\"Ori.Indef.N�o Neo\",\"Outras Neoplasias\",\"Negativo\",\"Insatisfat�rio\",\" Total\"])\n",
    "    return df"
   ]
  },
  {
   "cell_type": "code",
   "execution_count": null,
   "metadata": {
    "vscode": {
     "languageId": "plaintext"
    }
   },
   "outputs": [],
   "source": [
    "import pandas\n",
    "df = pandas.read_csv('cito_colo_pacrs2019.csv')\n",
    "\n",
    "\n"
   ]
  },
  {
   "cell_type": "markdown",
   "metadata": {},
   "source": [
    "Preparar cvs para importar no Power BI ou Tableu\n",
    "* Adicionar a informação laudo+ano na coluna?"
   ]
  },
  {
   "cell_type": "code",
   "execution_count": null,
   "metadata": {
    "vscode": {
     "languageId": "plaintext"
    }
   },
   "outputs": [],
   "source": []
  }
 ],
 "metadata": {
  "language_info": {
   "name": "python"
  }
 },
 "nbformat": 4,
 "nbformat_minor": 2
}
